{
 "cells": [
  {
   "cell_type": "markdown",
   "id": "61bf7526",
   "metadata": {},
   "source": [
    "# Réduction de dataset\n",
    "Réduction de la base de données `20newsgroups` en sélectionnant 10% de dataset et préservant la distribution des `targets`"
   ]
  },
  {
   "cell_type": "code",
   "execution_count": 16,
   "id": "4b04e91f",
   "metadata": {},
   "outputs": [],
   "source": [
    "import pandas as pd\n",
    "import numpy as np\n",
    "\n",
    "import seaborn as sns\n",
    "import matplotlib.pyplot as plt\n",
    "\n",
    "from sys import path\n",
    "path.append(\"..\")\n",
    "\n",
    "from iads.preprocessing import add_real_labels\n",
    "\n",
    "sns.set_theme(style=\"ticks\")\n",
    "plt.rcParams['font.family'] = 'Proxima Nova'"
   ]
  },
  {
   "cell_type": "markdown",
   "id": "0d889139",
   "metadata": {},
   "source": [
    "## Chargement de dataset"
   ]
  },
  {
   "cell_type": "code",
   "execution_count": 17,
   "id": "f48b12f7",
   "metadata": {},
   "outputs": [
    {
     "data": {
      "text/plain": [
       "Text(0.5, 1.0, 'Distribution de target (dataset complet)')"
      ]
     },
     "execution_count": 17,
     "metadata": {},
     "output_type": "execute_result"
    },
    {
     "data": {
      "image/png": "[encoded data removed]",
      "text/plain": [
       "<Figure size 640x480 with 1 Axes>"
      ]
     },
     "metadata": {},
     "output_type": "display_data"
    }
   ],
   "source": [
    "newsgroups_df = pd.read_csv(\"data/20newsgroups.csv\")\n",
    "\n",
    "ax = sns.barplot(data=newsgroups_df[\"target\"].value_counts(normalize=True))\n",
    "ax.set_title(\"Distribution de target (dataset complet)\")"
   ]
  },
  {
   "cell_type": "markdown",
   "id": "42d9dfdb",
   "metadata": {},
   "source": [
    "## Prendre 10% de dataset en préservant la distribution"
   ]
  },
  {
   "cell_type": "code",
   "execution_count": 18,
   "id": "b1291edf",
   "metadata": {},
   "outputs": [
    {
     "data": {
      "text/html": [
       "<div>\n",
       "<style scoped>\n",
       "    .dataframe tbody tr th:only-of-type {\n",
       "        vertical-align: middle;\n",
       "    }\n",
       "\n",
       "    .dataframe tbody tr th {\n",
       "        vertical-align: top;\n",
       "    }\n",
       "\n",
       "    .dataframe thead th {\n",
       "        text-align: right;\n",
       "    }\n",
       "</style>\n",
       "<table border=\"1\" class=\"dataframe\">\n",
       "  <thead>\n",
       "    <tr style=\"text-align: right;\">\n",
       "      <th></th>\n",
       "      <th>messages</th>\n",
       "      <th>target</th>\n",
       "      <th>label</th>\n",
       "    </tr>\n",
       "  </thead>\n",
       "  <tbody>\n",
       "    <tr>\n",
       "      <th>249</th>\n",
       "      <td>\\nSecular laws seem to value criminal life mor...</td>\n",
       "      <td>0</td>\n",
       "      <td>alt.atheism</td>\n",
       "    </tr>\n",
       "    <tr>\n",
       "      <th>12210</th>\n",
       "      <td>BR&gt; From: wpr@atlanta.dg.com (Bill Rawlins)\\nB...</td>\n",
       "      <td>0</td>\n",
       "      <td>alt.atheism</td>\n",
       "    </tr>\n",
       "    <tr>\n",
       "      <th>4126</th>\n",
       "      <td>: The willingness of true believers\\n: to die ...</td>\n",
       "      <td>0</td>\n",
       "      <td>alt.atheism</td>\n",
       "    </tr>\n",
       "    <tr>\n",
       "      <th>8754</th>\n",
       "      <td>\\nKnowing Keith, I expect he'll bring the leat...</td>\n",
       "      <td>0</td>\n",
       "      <td>alt.atheism</td>\n",
       "    </tr>\n",
       "    <tr>\n",
       "      <th>5782</th>\n",
       "      <td>\\n\"Manufacturing Consent,\" a film about the me...</td>\n",
       "      <td>0</td>\n",
       "      <td>alt.atheism</td>\n",
       "    </tr>\n",
       "    <tr>\n",
       "      <th>...</th>\n",
       "      <td>...</td>\n",
       "      <td>...</td>\n",
       "      <td>...</td>\n",
       "    </tr>\n",
       "    <tr>\n",
       "      <th>4319</th>\n",
       "      <td>NaN</td>\n",
       "      <td>19</td>\n",
       "      <td>comp.os.ms-windows.misc</td>\n",
       "    </tr>\n",
       "    <tr>\n",
       "      <th>17151</th>\n",
       "      <td>\\n\\nBecause that would contradict your religio...</td>\n",
       "      <td>19</td>\n",
       "      <td>comp.os.ms-windows.misc</td>\n",
       "    </tr>\n",
       "    <tr>\n",
       "      <th>12284</th>\n",
       "      <td>\\n\\nAn extremely good example of \"circumstanti...</td>\n",
       "      <td>19</td>\n",
       "      <td>comp.os.ms-windows.misc</td>\n",
       "    </tr>\n",
       "    <tr>\n",
       "      <th>13400</th>\n",
       "      <td>DROPLET VOL 1, No 11, Part 1\\n\\nA  D R O P L E...</td>\n",
       "      <td>19</td>\n",
       "      <td>comp.os.ms-windows.misc</td>\n",
       "    </tr>\n",
       "    <tr>\n",
       "      <th>6497</th>\n",
       "      <td>\\n\\nBrian K., guess what?  You missed the poin...</td>\n",
       "      <td>19</td>\n",
       "      <td>comp.os.ms-windows.misc</td>\n",
       "    </tr>\n",
       "  </tbody>\n",
       "</table>\n",
       "<p>1885 rows × 3 columns</p>\n",
       "</div>"
      ],
      "text/plain": [
       "                                                messages  target  \\\n",
       "249    \\nSecular laws seem to value criminal life mor...       0   \n",
       "12210  BR> From: wpr@atlanta.dg.com (Bill Rawlins)\\nB...       0   \n",
       "4126   : The willingness of true believers\\n: to die ...       0   \n",
       "8754   \\nKnowing Keith, I expect he'll bring the leat...       0   \n",
       "5782   \\n\"Manufacturing Consent,\" a film about the me...       0   \n",
       "...                                                  ...     ...   \n",
       "4319                                                 NaN      19   \n",
       "17151  \\n\\nBecause that would contradict your religio...      19   \n",
       "12284  \\n\\nAn extremely good example of \"circumstanti...      19   \n",
       "13400  DROPLET VOL 1, No 11, Part 1\\n\\nA  D R O P L E...      19   \n",
       "6497   \\n\\nBrian K., guess what?  You missed the poin...      19   \n",
       "\n",
       "                         label  \n",
       "249                alt.atheism  \n",
       "12210              alt.atheism  \n",
       "4126               alt.atheism  \n",
       "8754               alt.atheism  \n",
       "5782               alt.atheism  \n",
       "...                        ...  \n",
       "4319   comp.os.ms-windows.misc  \n",
       "17151  comp.os.ms-windows.misc  \n",
       "12284  comp.os.ms-windows.misc  \n",
       "13400  comp.os.ms-windows.misc  \n",
       "6497   comp.os.ms-windows.misc  \n",
       "\n",
       "[1885 rows x 3 columns]"
      ]
     },
     "execution_count": 18,
     "metadata": {},
     "output_type": "execute_result"
    },
    {
     "data": {
      "image/png": "[encoded data removed]",
      "text/plain": [
       "<Figure size 640x480 with 1 Axes>"
      ]
     },
     "metadata": {},
     "output_type": "display_data"
    }
   ],
   "source": [
    "np.random.seed(1)\n",
    "newsgroups_df = newsgroups_df.groupby(\"target\").sample(frac=0.1)\n",
    "newsgroups_df = add_real_labels(newsgroups_df)\n",
    "\n",
    "ax = sns.barplot(data=newsgroups_df[\"target\"].value_counts(normalize=True))\n",
    "ax.set_title(f\"Distribution de target (10% de dataset)\")\n",
    "\n",
    "newsgroups_df.to_csv(\"data/sample.csv\", index=False)\n",
    "newsgroups_df"
   ]
  },
  {
   "cell_type": "code",
   "execution_count": null,
   "id": "ffe4a671",
   "metadata": {},
   "outputs": [],
   "source": []
  }
 ],
 "metadata": {
  "kernelspec": {
   "display_name": "venv",
   "language": "python",
   "name": "python3"
  },
  "language_info": {
   "codemirror_mode": {
    "name": "ipython",
    "version": 3
   },
   "file_extension": ".py",
   "mimetype": "text/x-python",
   "name": "python",
   "nbconvert_exporter": "python",
   "pygments_lexer": "ipython3",
   "version": "3.11.4"
  }
 },
 "nbformat": 4,
 "nbformat_minor": 5
}
